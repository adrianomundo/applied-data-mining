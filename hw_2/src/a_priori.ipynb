{
 "cells": [
  {
   "cell_type": "code",
   "execution_count": 84,
   "metadata": {},
   "outputs": [],
   "source": [
    "import os\n",
    "import time\n",
    "import itertools "
   ]
  },
  {
   "cell_type": "code",
   "execution_count": 85,
   "metadata": {},
   "outputs": [],
   "source": [
    "def load_data(filename):\n",
    "    file = open(filename, 'r')\n",
    "    \n",
    "    # list containing baskets as list of lists [[1st basket],[2nd basket]]\n",
    "    baskets = []\n",
    "    for line in file: \n",
    "        basket = line.split(' ')\n",
    "        basket.remove('\\n')\n",
    "        basket = list(map(int, basket))\n",
    "        baskets.append(basket)\n",
    "        \n",
    "    return baskets"
   ]
  },
  {
   "cell_type": "code",
   "execution_count": 86,
   "metadata": {},
   "outputs": [],
   "source": [
    "def load_data_slide(filename):\n",
    "    file = open(filename, 'r')\n",
    "    \n",
    "    # list containing baskets as list of lists [[1st basket],[2nd basket]]\n",
    "    baskets = []\n",
    "    for line in file: \n",
    "        basket = line.split(' ')\n",
    "        basket = list(map(int, basket))\n",
    "        baskets.append(basket)\n",
    "        \n",
    "    return baskets"
   ]
  },
  {
   "cell_type": "code",
   "execution_count": 87,
   "metadata": {},
   "outputs": [],
   "source": [
    "# generate C1\n",
    "def generate_candidates(baskets):\n",
    "\n",
    "    candidates = {}\n",
    "\n",
    "    for basket in baskets:\n",
    "        for items in basket:\n",
    "            if candidates.get(items) == None:\n",
    "                    candidates[items] = 1\n",
    "            else:\n",
    "                candidates[items] += 1\n",
    "\n",
    "\n",
    "    return candidates"
   ]
  },
  {
   "cell_type": "code",
   "execution_count": 88,
   "metadata": {},
   "outputs": [],
   "source": [
    "# generate C2 -> NAIVE SOLUTION\n",
    "def generate_candidates_2(frequent_items, baskets):\n",
    "\n",
    "    items = sorted(frequent_items.keys())\n",
    "    couples = list(itertools.combinations(items, 2))\n",
    "    # print(\"couples: \", couples)\n",
    "\n",
    "    C2 = {}\n",
    "\n",
    "    for basket in baskets:\n",
    "        for couple in couples:\n",
    "            if all(item in basket for item in couple):\n",
    "                if C2.get(couple) == None:\n",
    "                    C2[couple] = 1\n",
    "                else: \n",
    "                    C2[couple] += 1\n",
    "                    \n",
    "    return C2"
   ]
  },
  {
   "cell_type": "code",
   "execution_count": 89,
   "metadata": {},
   "outputs": [],
   "source": [
    "# # generate C2 - no occ\n",
    "# def generate_candidates_C20(frequent_items):\n",
    "\n",
    "#     items = sorted(frequent_items.keys())\n",
    "#     couples = list(itertools.combinations(items, 2))\n",
    "#     # print(\"couples: \", couples)\n",
    "\n",
    "#     C2 = {}\n",
    "\n",
    "#     for couple in couples:\n",
    "#         C2[couple] = 0\n",
    "\n",
    "#     return C2"
   ]
  },
  {
   "cell_type": "code",
   "execution_count": 90,
   "metadata": {},
   "outputs": [],
   "source": [
    "# # integrate occurences\n",
    "# def generate_occurences(frequent_items, baskets, k_tuple):\n",
    "\n",
    "#     Ck = {}\n",
    "    \n",
    "#     items = sorted(frequent_items.keys())\n",
    "    \n",
    "#     for basket in baskets:\n",
    "#         basket_combinations = itertools.combinations(sorted(basket), k_tuple)\n",
    "#         for combination in basket_combinations:\n",
    "#             if combination in items:\n",
    "#                 if Ck.get(combination) == None:\n",
    "#                     Ck[combination] = 1\n",
    "#                 else:\n",
    "#                     Ck[combination] += 1\n",
    "   \n",
    "#     return Ck"
   ]
  },
  {
   "cell_type": "code",
   "execution_count": 91,
   "metadata": {},
   "outputs": [],
   "source": [
    "def generate_candidates_Ck(frequent_items, baskets, k_tuple):\n",
    "\n",
    "    items = sorted(frequent_items.keys())\n",
    "    Ck = {}\n",
    "    \n",
    "    for basket in baskets:\n",
    "        basket = set(basket)\n",
    "        common_elements = basket.intersection(set(items))\n",
    "        itemsets = list(itertools.combinations(sorted(common_elements), k_tuple))\n",
    "        \n",
    "        for itemset in itemsets:\n",
    "            if Ck.get(itemset) == None:\n",
    "                Ck[itemset] = 1\n",
    "            else: \n",
    "                Ck[itemset] += 1\n",
    "    return Ck"
   ]
  },
  {
   "cell_type": "code",
   "execution_count": 92,
   "metadata": {},
   "outputs": [],
   "source": [
    "def generate_candidates_Ckn(frequent_items, baskets, k_tuple):\n",
    "\n",
    "    #items = set(itertools.chain(*frequent_items.keys()))\n",
    "    items = [item for sublist in frequent_items.keys() for item in sublist]\n",
    "\n",
    "    Ck = {}\n",
    "    \n",
    "    for basket in baskets:\n",
    "        basket = set(basket)\n",
    "        common_elements = basket.intersection(set(items))\n",
    "        itemsets = list(itertools.combinations(sorted(common_elements), k_tuple))\n",
    "        \n",
    "        for itemset in itemsets:\n",
    "            if Ck.get(itemset) == None:\n",
    "                Ck[itemset] = 1\n",
    "            else: \n",
    "                Ck[itemset] += 1\n",
    "    return Ck"
   ]
  },
  {
   "cell_type": "code",
   "execution_count": 93,
   "metadata": {},
   "outputs": [],
   "source": [
    "def generate_candidates_Ckn_mod(frequent_items, baskets, k_tuple):\n",
    "\n",
    "    #items = set(itertools.chain(*frequent_items.keys()))\n",
    "    items = [item for sublist in frequent_items.keys() for item in sublist]\n",
    "    lk_1_items = list(frequent_items.keys())\n",
    "    \n",
    "    Ck = {}\n",
    "    \n",
    "    for basket in baskets:\n",
    "        basket = set(basket)\n",
    "        common_elements = basket.intersection(set(items))\n",
    "        itemsets = list(itertools.combinations(sorted(common_elements), k_tuple))\n",
    "                \n",
    "        for itemset in itemsets:\n",
    "            combinations = list(itertools.combinations(itemset, 2))            \n",
    "            if all(item in lk_1_items for item in combinations):\n",
    "                if Ck.get(itemset) is None:\n",
    "                    Ck[itemset] = 1\n",
    "                else: \n",
    "                    Ck[itemset] += 1\n",
    "    return Ck"
   ]
  },
  {
   "cell_type": "code",
   "execution_count": 104,
   "metadata": {},
   "outputs": [],
   "source": [
    "def generate_candidates_Ckn_mod_adv(frequent_items, baskets, k_tuple):\n",
    "\n",
    "    #items = set(itertools.chain(*frequent_items.keys()))\n",
    "    items = [item for sublist in frequent_items.keys() for item in sublist]\n",
    "    lk_1_items = list(frequent_items.keys())\n",
    "    \n",
    "    Ck = {}\n",
    "    \n",
    "    for basket in baskets:\n",
    "        basket = set(basket)\n",
    "        common_elements = basket.intersection(set(items))\n",
    "        itemsets = list(itertools.combinations(sorted(common_elements), k_tuple))\n",
    "                \n",
    "        for itemset in itemsets:\n",
    "            combinations = list(itertools.combinations(itemset, 2))\n",
    "            combinations = set(combinations)\n",
    "            check_combinations = combinations.intersection(set(lk_1_items))\n",
    "            \n",
    "            if (check_combinations == combinations):\n",
    "                if Ck.get(itemset) is None:\n",
    "                    Ck[itemset] = 1\n",
    "                else: \n",
    "                    Ck[itemset] += 1\n",
    "    return Ck"
   ]
  },
  {
   "cell_type": "code",
   "execution_count": 94,
   "metadata": {},
   "outputs": [],
   "source": [
    "# input L2, L1 -> generate C3\n",
    "def generate_candidates_3(frequent_items, singletons_items, baskets):\n",
    "    \n",
    "    C3 = {}\n",
    "    \n",
    "    singletons = sorted(list(singletons_items.keys()))\n",
    "    items = list(frequent_items.keys())\n",
    "    \n",
    "    #print(items)\n",
    "    #print(singletons)\n",
    "    \n",
    "    # ciclo su ogni item di L2 e su ogni item di L1, se l'elemento di L1 non è in L2 allora\n",
    "    # creo la tripletta. Dopo controllo che ogni combinazione (subset) di 2 elementi della tripletta\n",
    "    # sia presente in L2 per rispettare la regola, se si piazzo in C3 con count = 0.\n",
    "    # funzione del count da fare a sè così da diminuire anche il carico di C2\n",
    "    candidate = []\n",
    "    for item in items:\n",
    "        for singleton in singletons:\n",
    "            if singleton not in item:\n",
    "                candidate = list(item)\n",
    "                candidate.append(singleton)\n",
    "                #print(candidate)\n",
    "                cand_comb = list(itertools.combinations(sorted(candidate),2))\n",
    "                for comb in cand_comb:\n",
    "                    if all(item in items for item in cand_comb):\n",
    "                        C3[tuple(candidate)] = 0\n",
    "                candidate.clear()\n",
    "                \n",
    "    end = time.time()\n",
    "    #print(C3)\n",
    "    return C3\n",
    "            "
   ]
  },
  {
   "cell_type": "code",
   "execution_count": 95,
   "metadata": {},
   "outputs": [],
   "source": [
    "def filter_candidates(candidates, support):\n",
    "\n",
    "    frequent_items = {}\n",
    "    for item, occurences in list(candidates.items()):\n",
    "        if (occurences >= support):\n",
    "            frequent_items[item] = occurences\n",
    "\n",
    "    return frequent_items"
   ]
  },
  {
   "cell_type": "code",
   "execution_count": 96,
   "metadata": {
    "scrolled": true
   },
   "outputs": [
    {
     "name": "stdout",
     "output_type": "stream",
     "text": [
      "Time C1:  0.24896502494812012\n",
      "Time L1:  0.00024199485778808594\n",
      "Time C2  2.471842050552368\n",
      "{(217, 529): 403, (217, 766): 276, (419, 722): 366, (354, 684): 219, (529, 829): 584, (684, 829): 349, (494, 829): 267, (368, 419): 355, (368, 829): 1194, (419, 829): 259, (368, 529): 640, (368, 766): 504, (354, 529): 301, (684, 766): 613, (368, 722): 392, (354, 368): 319, (529, 684): 334, (217, 494): 183, (217, 354): 280, (368, 494): 860, (354, 419): 263, (354, 722): 566, (494, 766): 227, (722, 766): 328, (217, 829): 275, (419, 684): 155, (217, 368): 303, (368, 684): 387, (722, 829): 294, (217, 722): 498, (354, 829): 259, (354, 766): 329, (217, 419): 344, (419, 766): 238, (684, 722): 443, (354, 494): 189, (494, 529): 225, (766, 829): 321, (529, 766): 317, (494, 684): 208, (529, 722): 283, (217, 684): 198, (494, 722): 226, (419, 494): 176, (419, 529): 252}\n",
      "Time L2  6.008148193359375e-05\n",
      "Time C3  0.0002510547637939453\n",
      "{(529, 829, 368): 0, (368, 829, 529): 0, (368, 529, 829): 0}\n"
     ]
    }
   ],
   "source": [
    "filename = '../data/T10I4D100K.dat'\n",
    "baskets = load_data(filename)\n",
    "\n",
    "start = time.time()\n",
    "C1 = generate_candidates(baskets)\n",
    "end = time.time()\n",
    "print(\"Time C1: \", end-start)\n",
    "\n",
    "start = time.time()\n",
    "L1 = filter_candidates(C1, 5000)\n",
    "end = time.time()\n",
    "print(\"Time L1: \", end-start)\n",
    "\n",
    "start = time.time()\n",
    "C2 = generate_candidates_2(L1, baskets)\n",
    "end = time.time()\n",
    "print(\"Time C2 \", end-start)\n",
    "\n",
    "print(C2)\n",
    "\n",
    "start = time.time()\n",
    "L2 = filter_candidates(C2, 500)\n",
    "end = time.time()\n",
    "print(\"Time L2 \", end-start)\n",
    "\n",
    "start = time.time()\n",
    "C3 = generate_candidates_3(L2, L1, baskets)\n",
    "end = time.time()\n",
    "print(\"Time C3 \", end-start)\n",
    "print(C3)"
   ]
  },
  {
   "cell_type": "code",
   "execution_count": 105,
   "metadata": {},
   "outputs": [
    {
     "name": "stdout",
     "output_type": "stream",
     "text": [
      "Time C1:  8.296966552734375e-05\n",
      "Time L1:  9.703636169433594e-05\n",
      "Time Ck=2  0.00010085105895996094\n",
      "{(1, 3): 2, (2, 3): 2, (2, 5): 3, (3, 5): 2, (1, 2): 1, (1, 5): 1}\n",
      "Time L2  0.00011801719665527344\n",
      "{(1, 3): 2, (2, 3): 2, (2, 5): 3, (3, 5): 2}\n",
      "Time C3  0.0001049041748046875\n",
      "{(2, 3, 5): 2}\n"
     ]
    }
   ],
   "source": [
    "filename = '../data/slide.dat'\n",
    "baskets = load_data_slide(filename)\n",
    "\n",
    "start = time.time()\n",
    "C1 = generate_candidates(baskets)\n",
    "end = time.time()\n",
    "print(\"Time C1: \", end-start)\n",
    "\n",
    "start = time.time()\n",
    "L1 = filter_candidates(C1, 2)\n",
    "end = time.time()\n",
    "print(\"Time L1: \", end-start)\n",
    "\n",
    "start = time.time()\n",
    "Ck = generate_candidates_Ck(L1, baskets, 2)\n",
    "end = time.time()\n",
    "print(\"Time Ck=2 \", end-start)\n",
    "print(Ck)\n",
    "\n",
    "start = time.time()\n",
    "L2 = filter_candidates(Ck, 2)\n",
    "end = time.time()\n",
    "print(\"Time L2 \", end-start)\n",
    "print(L2)\n",
    "\n",
    "start = time.time()\n",
    "C3 = generate_candidates_Ckn_mod_adv(L2, baskets, 3)\n",
    "end = time.time()\n",
    "print(\"Time C3 \", end-start)\n",
    "print(C3)"
   ]
  },
  {
   "cell_type": "code",
   "execution_count": 135,
   "metadata": {},
   "outputs": [
    {
     "name": "stdout",
     "output_type": "stream",
     "text": [
      "Time C1:  0.22855615615844727\n",
      "Time L1:  0.00027108192443847656\n",
      "375\n",
      "Time Ck=2  2.577099084854126\n",
      "Time L2  0.01299595832824707\n",
      "9\n",
      "Time C3  0.22626018524169922\n",
      "Time L3:  6.890296936035156e-05\n",
      "1\n"
     ]
    }
   ],
   "source": [
    "filename = '../data/T10I4D100K.dat'\n",
    "baskets = load_data(filename)\n",
    "\n",
    "start = time.time()\n",
    "C1 = generate_candidates(baskets)\n",
    "end = time.time()\n",
    "print(\"Time C1: \", end-start)\n",
    "\n",
    "start = time.time()\n",
    "L1 = filter_candidates(C1, 1000)\n",
    "end = time.time()\n",
    "print(\"Time L1: \", end-start)\n",
    "print(len(L1.keys()))\n",
    "\n",
    "start = time.time()\n",
    "Ck = generate_candidates_Ck(L1, baskets, 2)\n",
    "end = time.time()\n",
    "print(\"Time Ck=2 \", end-start)\n",
    "\n",
    "start = time.time()\n",
    "L2 = filter_candidates(Ck, 1000)\n",
    "end = time.time()\n",
    "print(\"Time L2 \", end-start)\n",
    "print(len(L2.keys()))\n",
    "\n",
    "start = time.time()\n",
    "C3 = generate_candidates_Ckn_mod_adv(L2, baskets, 3)\n",
    "end = time.time()\n",
    "print(\"Time C3 \", end-start)\n",
    "\n",
    "start = time.time()\n",
    "L3 = filter_candidates(C3, 1000)\n",
    "end = time.time()\n",
    "print(\"Time L3: \", end-start)\n",
    "print(len(L3.keys()))\n",
    "\n",
    "size = [0]\n",
    "size.append(len(L1.keys()))\n",
    "size.append(len(L2.keys()))\n",
    "size.append(len(L3.keys()))\n",
    "\n",
    "candidat = [0]\n",
    "candidat.append(len(C1.keys()))\n",
    "candidat.append(len(C2.keys()))\n",
    "candidat.append(len(C3.keys()))\n",
    "\n",
    "stage = [0,1,2,3]"
   ]
  },
  {
   "cell_type": "code",
   "execution_count": 136,
   "metadata": {},
   "outputs": [
    {
     "data": {
      "image/png": "[encoded data removed]",
      "text/plain": [
       "<Figure size 432x288 with 1 Axes>"
      ]
     },
     "metadata": {
      "needs_background": "light"
     },
     "output_type": "display_data"
    }
   ],
   "source": [
    "import matplotlib.pyplot as plt\n",
    "import numpy as np\n",
    "\n",
    "plt.plot(np.array(stage), np.array(size))\n",
    "plt.ylabel(\"frequent itemsets\")\n",
    "plt.xlabel(\"stage\")\n",
    "plt.grid()\n",
    "plt.show()"
   ]
  },
  {
   "cell_type": "code",
   "execution_count": 137,
   "metadata": {},
   "outputs": [
    {
     "data": {
      "image/png": "[encoded data removed]",
      "text/plain": [
       "<Figure size 432x288 with 1 Axes>"
      ]
     },
     "metadata": {
      "needs_background": "light"
     },
     "output_type": "display_data"
    }
   ],
   "source": [
    "plt.plot(np.array(stage), np.array(candidat))\n",
    "plt.ylabel(\"candidates item\")\n",
    "plt.xlabel(\"stage\")\n",
    "plt.grid()\n",
    "plt.show()"
   ]
  },
  {
   "cell_type": "markdown",
   "metadata": {},
   "source": [
    "### TODO fare funziona unica (con 4 stage o far decidere utente o finchè non arriva a zero) + Parser\n",
    "### TODO spostare fuori dal notebook (?) -> A me piace così\n",
    "### TODO grafico del tempo\n",
    "### TODO report"
   ]
  },
  {
   "cell_type": "code",
   "execution_count": null,
   "metadata": {},
   "outputs": [],
   "source": []
  },
  {
   "cell_type": "code",
   "execution_count": null,
   "metadata": {},
   "outputs": [],
   "source": []
  }
 ],
 "metadata": {
  "kernelspec": {
   "display_name": "Python 3",
   "language": "python",
   "name": "python3"
  },
  "language_info": {
   "codemirror_mode": {
    "name": "ipython",
    "version": 3
   },
   "file_extension": ".py",
   "mimetype": "text/x-python",
   "name": "python",
   "nbconvert_exporter": "python",
   "pygments_lexer": "ipython3",
   "version": "3.7.4"
  }
 },
 "nbformat": 4,
 "nbformat_minor": 2
}
